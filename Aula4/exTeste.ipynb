{
 "cells": [
  {
   "cell_type": "code",
   "execution_count": null,
   "metadata": {},
   "outputs": [],
   "source": [
    "# Instalação biblioteca Gradio\n",
    "!pip install gradio"
   ]
  },
  {
   "cell_type": "code",
   "execution_count": 11,
   "metadata": {},
   "outputs": [
    {
     "name": "stdout",
     "output_type": "stream",
     "text": [
      "Defaulting to user installation because normal site-packages is not writeable\n",
      "Requirement already satisfied: Groq in c:\\users\\dsadm\\appdata\\roaming\\python\\python313\\site-packages (0.18.0)\n",
      "Requirement already satisfied: anyio<5,>=3.5.0 in c:\\users\\dsadm\\appdata\\roaming\\python\\python313\\site-packages (from Groq) (4.8.0)\n",
      "Requirement already satisfied: distro<2,>=1.7.0 in c:\\users\\dsadm\\appdata\\roaming\\python\\python313\\site-packages (from Groq) (1.9.0)\n",
      "Requirement already satisfied: httpx<1,>=0.23.0 in c:\\users\\dsadm\\appdata\\roaming\\python\\python313\\site-packages (from Groq) (0.28.1)\n",
      "Requirement already satisfied: pydantic<3,>=1.9.0 in c:\\users\\dsadm\\appdata\\roaming\\python\\python313\\site-packages (from Groq) (2.10.6)\n",
      "Requirement already satisfied: sniffio in c:\\users\\dsadm\\appdata\\roaming\\python\\python313\\site-packages (from Groq) (1.3.1)\n",
      "Requirement already satisfied: typing-extensions<5,>=4.10 in c:\\users\\dsadm\\appdata\\roaming\\python\\python313\\site-packages (from Groq) (4.12.2)\n",
      "Requirement already satisfied: idna>=2.8 in c:\\users\\dsadm\\appdata\\roaming\\python\\python313\\site-packages (from anyio<5,>=3.5.0->Groq) (3.10)\n",
      "Requirement already satisfied: certifi in c:\\users\\dsadm\\appdata\\roaming\\python\\python313\\site-packages (from httpx<1,>=0.23.0->Groq) (2025.1.31)\n",
      "Requirement already satisfied: httpcore==1.* in c:\\users\\dsadm\\appdata\\roaming\\python\\python313\\site-packages (from httpx<1,>=0.23.0->Groq) (1.0.7)\n",
      "Requirement already satisfied: h11<0.15,>=0.13 in c:\\users\\dsadm\\appdata\\roaming\\python\\python313\\site-packages (from httpcore==1.*->httpx<1,>=0.23.0->Groq) (0.14.0)\n",
      "Requirement already satisfied: annotated-types>=0.6.0 in c:\\users\\dsadm\\appdata\\roaming\\python\\python313\\site-packages (from pydantic<3,>=1.9.0->Groq) (0.7.0)\n",
      "Requirement already satisfied: pydantic-core==2.27.2 in c:\\users\\dsadm\\appdata\\roaming\\python\\python313\\site-packages (from pydantic<3,>=1.9.0->Groq) (2.27.2)\n",
      "Note: you may need to restart the kernel to use updated packages.\n"
     ]
    },
    {
     "name": "stderr",
     "output_type": "stream",
     "text": [
      "\n",
      "[notice] A new release of pip is available: 24.3.1 -> 25.0.1\n",
      "[notice] To update, run: python.exe -m pip install --upgrade pip\n"
     ]
    }
   ],
   "source": [
    "pip install Groq"
   ]
  },
  {
   "cell_type": "code",
   "execution_count": 7,
   "metadata": {},
   "outputs": [],
   "source": [
    "import gradio as gr # importa a biblioteca gradio"
   ]
  },
  {
   "cell_type": "code",
   "execution_count": 12,
   "metadata": {},
   "outputs": [
    {
     "name": "stdout",
     "output_type": "stream",
     "text": [
      "* Running on local URL:  http://127.0.0.1:7862\n",
      "\n",
      "To create a public link, set `share=True` in `launch()`.\n"
     ]
    },
    {
     "data": {
      "text/html": [
       "<div><iframe src=\"http://127.0.0.1:7862/\" width=\"100%\" height=\"500\" allow=\"autoplay; camera; microphone; clipboard-read; clipboard-write;\" frameborder=\"0\" allowfullscreen></iframe></div>"
      ],
      "text/plain": [
       "<IPython.core.display.HTML object>"
      ]
     },
     "metadata": {},
     "output_type": "display_data"
    },
    {
     "data": {
      "text/plain": []
     },
     "execution_count": 12,
     "metadata": {},
     "output_type": "execute_result"
    },
    {
     "name": "stdout",
     "output_type": "stream",
     "text": [
      "Using existing dataset file at: .gradio\\flagged\\dataset1.csv\n"
     ]
    }
   ],
   "source": [
    "# Cria a função hello\n",
    "def hello (name):\n",
    "    return f\"Boa noite {name}!\"\n",
    "iface = gr.Interface(fn=hello, inputs=\"text\",outputs=\"text\")\n",
    "iface.launch()"
   ]
  },
  {
   "cell_type": "code",
   "execution_count": null,
   "metadata": {},
   "outputs": [],
   "source": []
  }
 ],
 "metadata": {
  "kernelspec": {
   "display_name": "Python 3",
   "language": "python",
   "name": "python3"
  },
  "language_info": {
   "codemirror_mode": {
    "name": "ipython",
    "version": 3
   },
   "file_extension": ".py",
   "mimetype": "text/x-python",
   "name": "python",
   "nbconvert_exporter": "python",
   "pygments_lexer": "ipython3",
   "version": "3.13.1"
  }
 },
 "nbformat": 4,
 "nbformat_minor": 2
}
