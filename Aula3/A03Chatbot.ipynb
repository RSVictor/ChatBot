{
 "cells": [
  {
   "cell_type": "code",
   "execution_count": null,
   "metadata": {},
   "outputs": [],
   "source": [
    "# instalaçao da biblioteca Groq\n",
    "!pip install groq"
   ]
  },
  {
   "cell_type": "code",
   "execution_count": 6,
   "metadata": {},
   "outputs": [],
   "source": [
    "from groq import Groq # realiza a importaçao da biblioteca necessaria para rodar a LLM\n",
    "#Inicializa o cliente com a chave da \n",
    "client = Groq(api_key='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')\n",
    "completion = client.chat.completions.create(\n",
    "  model=\"llama3-8b-8192\",\n",
    "  messages=[\n",
    "     {\"role\":\"system\",\"content\":\"Voce é assistente de agricultor\"},\n",
    "     {\"role\":\"user\",\"content\":\"Qual a semente indicada para \\n no solo arenoso em maio\"}\n",
    "\n",
    "  ],  \n",
    "  temperature=0,\n",
    "  max_tokens=1024, #ajusta o token,\n",
    "  top_p=1,\n",
    "  stream = False\n",
    ")"
   ]
  },
  {
   "cell_type": "code",
   "execution_count": 3,
   "metadata": {},
   "outputs": [
    {
     "name": "stdout",
     "output_type": "stream",
     "text": [
      "Um excelente questionário!\n",
      "\n",
      "Para um solo arenoso em maio, eu recomendaria sementes que sejam resistentes à seca e ao calor, pois esses solos tendem a secar rapidamente e podem ser afetados por temperaturas elevadas.\n",
      "\n",
      "Aqui estão algumas opções de sementes que devem se adaptar bem a um solo arenoso em maio:\n",
      "\n",
      "1. Sementes de milho: O milho é uma cultura comum em solos arenosos e é resistente à seca. Ele também é uma boa opção para maio, pois o clima é geralmente mais quente e seco nessa época do ano.\n",
      "2. Sementes de feijão: O feijão é outro grão que se adapta bem a solos arenosos e é resistente à seca. Ele também é uma boa opção para maio, pois o clima é geralmente mais quente e seco nessa época do ano.\n",
      "3. Sementes de soja: A soja é uma cultura comum em solos arenosos e é resistente à seca. Ela também é uma boa opção para maio, pois o clima é geralmente mais quente e seco nessa época do ano.\n",
      "4. Sementes de alfafa: A alfafa é uma cultura que se adapta bem a solos arenosos e é resistente à seca. Ela também é uma boa opção para maio, pois o clima é geralmente mais quente e seco nessa época do ano.\n",
      "5. Sementes de trigo: O trigo é uma cultura comum em solos arenosos e é resistente à seca. Ele também é uma boa opção para maio, pois o clima é geralmente mais quente e seco nessa época do ano.\n",
      "\n",
      "Lembre-se de que é importante verificar as condições climáticas locais e as necessidades específicas da cultura que você deseja cultivar antes de plantar. Além disso, é sempre recomendável consultar um especialista em agricultura ou um consultor agrícola para obter orientação mais específica para o seu local.\n"
     ]
    }
   ],
   "source": [
    "# exibe a resposta gerada\n",
    "print(completion.choices[0].message.content)"
   ]
  },
  {
   "cell_type": "code",
   "execution_count": 4,
   "metadata": {},
   "outputs": [],
   "source": [
    "import os # biblioteca do sistema operacional\n",
    "from groq import Groq"
   ]
  },
  {
   "cell_type": "code",
   "execution_count": 17,
   "metadata": {},
   "outputs": [
    {
     "name": "stdout",
     "output_type": "stream",
     "text": [
      "\n",
      " Resposta do assistente: \n",
      "\n",
      "Uma pergunta prática!\n",
      "\n",
      "As motos Hornet e Yamarra são modelos populares no mercado, mas para responder à sua pergunta, preciso saber mais sobre as especificações e características das motos em questão.\n",
      "\n",
      "A Honda Hornet é uma moto esportiva de 250cc, conhecida por sua performance e economia. Ela tem um consumo médio de combustível de cerca de 35 km/l, dependendo do estilo de condução e condições de trânsito.\n",
      "\n",
      "Já a Yamarra é uma moto de 150cc, mais econômica e adequada para uso diário. Ela tem um consumo médio de combustível de cerca de 50 km/l, também dependendo do estilo de condução e condições de trânsito.\n",
      "\n",
      "Considerando essas informações, a Yamarra parece ser a opção mais econômica, pois tem um consumo médio de combustível mais baixo. No entanto, é importante lembrar que a escolha da moto mais econômica depende de muitos fatores, como o seu estilo de condução, o tipo de trânsito que você enfrenta e as suas necessidades específicas.\n",
      "\n",
      "Além disso, é importante lembrar que a economia de combustível não é o único fator a considerar quando escolhendo uma moto. Outros fatores importantes incluem a performance, segurança, manutenção e preço da moto.\n",
      "\n",
      "Espero que isso tenha ajudado!\n",
      "\n"
     ]
    }
   ],
   "source": [
    "#Define sua chave da API do GROQ\n",
    "GROQ_API_KEY = os.getenv('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')\n",
    "client = Groq(api_key='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')\n",
    "\n",
    "#Solicita que o usuario digite o prompt\n",
    "\n",
    "user_prompt=input(\"Digite sua pergunta: \")\n",
    "\n",
    "# Faz a solicitaçao ao modelo\n",
    "completion = client.chat.completions.create(\n",
    "  model=\"llama3-8b-8192\",\n",
    "  messages=[\n",
    "     {\"role\":\"system\",\"content\":\"Você é um assistente virtual geral\"},\n",
    "     {\"role\":\"user\",\"content\":user_prompt}\n",
    "\n",
    "  ],  \n",
    "  temperature=0,\n",
    "  max_tokens=1024, #ajusta o token,\n",
    "  top_p=1,\n",
    "  stream = False\n",
    "\n",
    "\n",
    "\n",
    "\n",
    "\n",
    ")\n",
    "# Exibe a resposta \n",
    "\n",
    "print('\\n Resposta do assistente: \\n')\n",
    "print(completion.choices[0].message.content + \"\\n\")"
   ]
  },
  {
   "cell_type": "code",
   "execution_count": 16,
   "metadata": {},
   "outputs": [
    {
     "name": "stdout",
     "output_type": "stream",
     "text": [
      "\n",
      " Resposta do assistente: \n",
      "\n",
      "Olá! Como vai o seu dia? Estou aqui para ajudar com qualquer dúvida ou problema que você tenha em sua fazenda ou plantação. Quais são os principais desafios que você está enfrentando atualmente?\n",
      "\n",
      "Encerrando assistente Agro ! Até mais ! \n",
      "\n"
     ]
    }
   ],
   "source": [
    "#Define sua chave da API do GROQ\n",
    "#GROQ_API_KEY = os.getenv('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')\n",
    "client = Groq(api_key='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')\n",
    "\n",
    "#Solicita que o usuario digite o prompt\n",
    "while True: \n",
    "\n",
    "    user_prompt=input(\"Digite sua pergunta sobre agricultura: \")\n",
    "    if user_prompt.strip() ==\"sair\":\n",
    "        print('Encerrando assistente Agro ! Até mais ! \\n')\n",
    "        break\n",
    "    # Faz a solicitaçao ao modelo\n",
    "    completion = client.chat.completions.create(\n",
    "    model=\"llama3-8b-8192\",\n",
    "    messages=[\n",
    "    {\"role\":\"system\",\"content\":\"Voce é assistente de agricultor\"},\n",
    "    {\"role\":\"user\",\"content\":user_prompt}\n",
    "\n",
    "    ],  \n",
    "    temperature=0,\n",
    "    max_tokens=1024, #ajusta o token,\n",
    "    top_p=1,\n",
    "    stream = False\n",
    "\n",
    "    )\n",
    "# Exibe a resposta \n",
    "    print('\\n Resposta do assistente: \\n')\n",
    "    print(completion.choices[0].message.content + \"\\n\")"
   ]
  }
 ],
 "metadata": {
  "kernelspec": {
   "display_name": "Python 3",
   "language": "python",
   "name": "python3"
  },
  "language_info": {
   "codemirror_mode": {
    "name": "ipython",
    "version": 3
   },
   "file_extension": ".py",
   "mimetype": "text/x-python",
   "name": "python",
   "nbconvert_exporter": "python",
   "pygments_lexer": "ipython3",
   "version": "3.13.1"
  }
 },
 "nbformat": 4,
 "nbformat_minor": 2
}
